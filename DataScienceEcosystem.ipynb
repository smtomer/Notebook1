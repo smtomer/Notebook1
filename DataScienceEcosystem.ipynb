{
 "cells": [
  {
   "cell_type": "code",
   "execution_count": 1,
   "id": "69157256-d7c2-41ca-a2ee-ff81c840ed3e",
   "metadata": {},
   "outputs": [
    {
     "data": {
      "text/html": [
       "<style>table {align:left;display:block} </style>"
      ],
      "text/plain": [
       "<IPython.core.display.HTML object>"
      ]
     },
     "execution_count": 1,
     "metadata": {},
     "output_type": "execute_result"
    }
   ],
   "source": [
    "from IPython.core.display import HTML\n",
    "table_css = 'table {align:left;display:block} '\n",
    "HTML('<style>{}</style>'.format(table_css))"
   ]
  },
  {
   "cell_type": "markdown",
   "id": "860b721d-81f2-49bf-86e9-56880c55b6d5",
   "metadata": {},
   "source": [
    "# Data Science Tools and Ecosystem"
   ]
  },
  {
   "cell_type": "markdown",
   "id": "cce3e8f4-7813-45e5-a348-fad5ded49dc1",
   "metadata": {},
   "source": [
    "In this notebook, Data Science Tools and Ecosystem are summarized."
   ]
  },
  {
   "cell_type": "markdown",
   "id": "d2bbddc5-7fb0-46b3-b4fe-ff5a18361aff",
   "metadata": {},
   "source": [
    "Some of the popular languages that Data Scientists use are:\n",
    "1. Python\n",
    "2. R\n",
    "3. SQL\n",
    "4. Julia"
   ]
  },
  {
   "cell_type": "markdown",
   "id": "1d10ca75-7521-4eaf-9037-4bc5e684e80a",
   "metadata": {},
   "source": [
    "Some of the commonly used libraries used by Data Scientists include:\n",
    "1. NumPy\n",
    "2. Pandas\n",
    "3. Matplotlib\n",
    "4. Scikit-learn"
   ]
  },
  {
   "cell_type": "markdown",
   "id": "fb2cba5c-c9a8-41c5-abd8-3c3d4cefb1ce",
   "metadata": {},
   "source": [
    "Data Science Tools\r\n",
    "Jupyter Notebooks\r\n",
    "RStudio\r\n",
    "Apache Zeppelin"
   ]
  },
  {
   "cell_type": "markdown",
   "id": "7ba57ebb-f600-4354-9b83-9d598e8da9b0",
   "metadata": {},
   "source": [
    "| Data Science Tools        |\n",
    "|:-------------------------:|\n",
    "| Jupyter Notebooks          |\n",
    "| RStudio                   |\n",
    "| Apache Zeppelin            |"
   ]
  },
  {
   "cell_type": "markdown",
   "id": "293ba7f9-2604-4cf7-83fc-4a05720f067d",
   "metadata": {},
   "source": [
    "### Below are a few examples of evaluating arithmetic expressions in Python."
   ]
  },
  {
   "cell_type": "code",
   "execution_count": 17,
   "id": "cc5ce57e-b840-4b38-a444-92bfb69da09d",
   "metadata": {},
   "outputs": [
    {
     "data": {
      "text/plain": [
       "17"
      ]
     },
     "execution_count": 17,
     "metadata": {},
     "output_type": "execute_result"
    }
   ],
   "source": [
    "# This a simple arithmetic expression to mutiply then add integers\n",
    "(3*4)+5"
   ]
  },
  {
   "cell_type": "code",
   "execution_count": 19,
   "id": "e742e633-23dc-4c1d-bd44-9e7b58ba312c",
   "metadata": {},
   "outputs": [
    {
     "data": {
      "text/plain": [
       "3.3333333333333335"
      ]
     },
     "execution_count": 19,
     "metadata": {},
     "output_type": "execute_result"
    }
   ],
   "source": [
    "# This will convert 200 minutes to hours by diving by 60\n",
    "200/60"
   ]
  },
  {
   "cell_type": "markdown",
   "id": "818f88d1-8149-49b5-9751-b413e2902fe1",
   "metadata": {},
   "source": [
    "**Objectives:**\n",
    "- List popular languages for Data Science\n",
    "- List commonly used libraries in Data Science\n",
    "- Demonstrate arithmetic expressions in Python\n",
    "- List development tools used by Data Scientists"
   ]
  },
  {
   "cell_type": "markdown",
   "id": "6acf17a3-e463-4048-adba-6172b738b6f9",
   "metadata": {},
   "source": [
    "## Author\n",
    "Sean Tomer"
   ]
  },
  {
   "cell_type": "code",
   "execution_count": null,
   "id": "5983d665-592b-4df2-8370-6dce4b915ed9",
   "metadata": {},
   "outputs": [],
   "source": []
  }
 ],
 "metadata": {
  "kernelspec": {
   "display_name": "anaconda-panel-2023.05-py310",
   "language": "python",
   "name": "conda-env-anaconda-panel-2023.05-py310-py"
  },
  "language_info": {
   "codemirror_mode": {
    "name": "ipython",
    "version": 3
   },
   "file_extension": ".py",
   "mimetype": "text/x-python",
   "name": "python",
   "nbconvert_exporter": "python",
   "pygments_lexer": "ipython3",
   "version": "3.11.5"
  }
 },
 "nbformat": 4,
 "nbformat_minor": 5
}
